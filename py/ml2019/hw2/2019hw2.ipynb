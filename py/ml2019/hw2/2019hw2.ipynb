{
 "nbformat": 4,
 "nbformat_minor": 2,
 "metadata": {
  "language_info": {
   "name": "python",
   "codemirror_mode": {
    "name": "ipython",
    "version": 3
   },
   "version": "3.6.6-final"
  },
  "orig_nbformat": 2,
  "file_extension": ".py",
  "mimetype": "text/x-python",
  "name": "python",
  "npconvert_exporter": "python",
  "pygments_lexer": "ipython3",
  "version": 3,
  "kernelspec": {
   "name": "python36664bitbbe86dc75a9a44949c3accb9dfd5896b",
   "display_name": "Python 3.6.6 64-bit"
  }
 },
 "cells": [
  {
   "cell_type": "markdown",
   "execution_count": null,
   "metadata": {},
   "outputs": [],
   "source": [
    "read data"
   ]
  },
  {
   "cell_type": "code",
   "execution_count": 8,
   "metadata": {},
   "outputs": [],
   "source": [
    "import numpy as np\n",
    "x_train= np.loadtxt('X_train',delimiter=',',skiprows=1)\n",
    "y_train=np.loadtxt('Y_train',delimiter=',',skiprows=1)\n",
    "y_train=y_train[:,np.newaxis]"
   ]
  },
  {
   "cell_type": "code",
   "execution_count": 4,
   "metadata": {},
   "outputs": [],
   "source": [
    "def norm_by_colum(X,s_colum=None,refer=0):\n",
    "    '''\n",
    "    X:输入矩阵,s_colum:列表,refer:{0:minimax,1:norm}\n",
    "    '''\n",
    "    if s_colum == None:\n",
    "        s_colum=np.arange(np.size(X,1))\n",
    "    leng=len(s_colum)\n",
    "    if refer ==0:\n",
    "        xm=np.min(X[:,s_colum],0).reshape(1,leng)\n",
    "        xM=np.max(X[:,s_colum],0).reshape(1,leng)\n",
    "        X[:,s_colum]=(X[:,s_colum]-xm)/(xM-xm)\n",
    "    else :\n",
    "        xm=np.mean(X[:,s_colum],0).reshape(1,leng)\n",
    "        xd=np.std(X[:,s_colum],0).reshape(1,leng)##np.std/var\n",
    "        X[:,s_colum]=(X[:,s_colum]-xm)/xd\n",
    "    return X\n",
    "x_train=norm_by_colum(x_train,s_colum=[0,1,3,4,5],refer=1)"
   ]
  },
  {
   "cell_type": "code",
   "execution_count": null,
   "metadata": {},
   "outputs": [],
   "source": []
  }
 ]
}