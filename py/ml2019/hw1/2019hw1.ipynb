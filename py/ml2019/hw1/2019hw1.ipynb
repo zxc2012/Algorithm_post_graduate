{
 "nbformat": 4,
 "nbformat_minor": 2,
 "metadata": {
  "language_info": {
   "name": "python",
   "codemirror_mode": {
    "name": "ipython",
    "version": 3
   },
   "version": "3.6.6-final"
  },
  "orig_nbformat": 2,
  "file_extension": ".py",
  "mimetype": "text/x-python",
  "name": "python",
  "npconvert_exporter": "python",
  "pygments_lexer": "ipython3",
  "version": 3,
  "kernelspec": {
   "name": "python36664bitbbe86dc75a9a44949c3accb9dfd5896b",
   "display_name": "Python 3.6.6 64-bit"
  }
 },
 "cells": [
  {
   "cell_type": "code",
   "execution_count": 35,
   "metadata": {},
   "outputs": [
    {
     "data": {
      "text/plain": "'\\n初步结论:\\nWS_HR,PM10,NO\\n'"
     },
     "execution_count": 35,
     "metadata": {},
     "output_type": "execute_result"
    }
   ],
   "source": [
    "'''\n",
    "读取数据,预处理\n",
    "3600=3200 400\n",
    "'''\n",
    "import pandas as pd\n",
    "import numpy as np\n",
    "import matplotlib.pyplot as plt\n",
    "import seaborn as sns\n",
    "train_data=pd.read_csv('train.csv',usecols=range(2,27))\n",
    "train_data=train_data.replace('NR',0)\n",
    "train_data=np.array(train_data)\n",
    "# new=train_data[:18,0]\n",
    "# new=[new.reshape(-1,1)]\n",
    "new=np.empty((18,1))\n",
    "for i in range(0,4320,18):\n",
    "    new=np.concatenate((new,train_data[i:i+18,1:]),axis=1)\n",
    "new=new[:,1:].T\n",
    "temp={}\n",
    "for i in range(18):\n",
    "    temp[train_data[i,0]]=new[:,i]\n",
    "# new=pd.DataFrame(new.T,columns=)\n",
    "# train_data=train_data.astype(float)\n",
    "# print(train_data.corr())\n",
    "\n",
    "# sns.heatmap(new.corr(),annot=True) \n",
    "'''\n",
    "初步结论:\n",
    "WS_HR,PM10,NO\n",
    "'''\n",
    "# plt.figure(1)\n",
    "# for i in range(9):\n",
    "#     plt.plot(train_data[i,1:],label=train_data[i,0])\n",
    "# plt.figure(2)\n",
    "# for i in range(10,18):\n",
    "#     plt.plot(train_data[i,1:],label=train_data[i,0])\n",
    "# plt.figure(3)\n",
    "# plt.plot(train_data[9,1:],label=train_data[i,0])"
   ]
  },
  {
   "cell_type": "code",
   "execution_count": null,
   "metadata": {},
   "outputs": [],
   "source": [
    "lr=0.001\n",
    "def update(feature,targets,steps):\n",
    "    #init\n",
    "    w=np.zeros(n)\n",
    "    w_diff=np.zeros(n)\n",
    "    b=0\n",
    "    b_diff=0\n",
    "    beta=0\n",
    "    n=np.size(targets)#sample\n",
    "    m=np.size(feature,0)#input_feature\n",
    "    for x in range(steps):\n",
    "        for i in range(m):\n",
    "            for j in range(n):\n",
    "                w_diff[i]+=(-feature[i,j])*(targets[j]-b-w.dot(feature[:,j]))\n",
    "            w_diff[i]+=beta*w[i]*w[i]\n",
    "            w_diff[i]/=n\n",
    "        for j in range(n):\n",
    "            b_diff-=targets[j]-b-w.dot(feature[:,j])\n",
    "        b_diff/=n\n",
    "        w_diff_2=np.sqrt(np.sum(w_diff*w_diff))\n",
    "        b_diff_2=np.sqrt(np.sum(b_diff*b_diff))\n",
    "        w-=lr*w_diff/w_diff_2\n",
    "        b-=lr*b_diff\n",
    "    ## count loss\n",
    "    if x%100==0:\n",
    "        loss=0\n",
    "        for j in range(n):\n",
    "            loss+=(targets[j]-b-w.dot(feature[:,j]))**2\n",
    "        loss/=n\n",
    "        print(\"after {} epochs,Loss is\".format(i),loss)    "
   ]
  },
  {
   "cell_type": "code",
   "execution_count": null,
   "metadata": {},
   "outputs": [],
   "source": [
    "my_feature,my_targets=[],[]\n",
    "for i in range(0,4320,18):\n",
    "    for j in range(15):\n",
    "        use_f=train_data[i+9,j:j+9]\n",
    "        use_t=train_data[i+9,j+9]\n",
    "        my_feature.append(use_f)\n",
    "        my_targets.append(use_t)\n",
    "my_feature=np.array(my_feature)\n",
    "my_target=np.array(my_targets)\n",
    "# update(my_feature,my_targets,500)"
   ]
  },
  {
   "cell_type": "code",
   "execution_count": null,
   "metadata": {},
   "outputs": [],
   "source": []
  }
 ]
}