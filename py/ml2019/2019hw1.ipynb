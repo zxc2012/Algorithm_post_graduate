{
 "nbformat": 4,
 "nbformat_minor": 2,
 "metadata": {
  "language_info": {
   "name": "python",
   "codemirror_mode": {
    "name": "ipython",
    "version": 3
   },
   "version": "3.6.6-final"
  },
  "orig_nbformat": 2,
  "file_extension": ".py",
  "mimetype": "text/x-python",
  "name": "python",
  "npconvert_exporter": "python",
  "pygments_lexer": "ipython3",
  "version": 3,
  "kernelspec": {
   "name": "python36664bitbbe86dc75a9a44949c3accb9dfd5896b",
   "display_name": "Python 3.6.6 64-bit"
  }
 },
 "cells": [
  {
   "cell_type": "code",
   "execution_count": 3,
   "metadata": {},
   "outputs": [
    {
     "data": {
      "text/plain": "'\\n初步结论:\\nWS_HR,PM10,NO\\n'"
     },
     "execution_count": 3,
     "metadata": {},
     "output_type": "execute_result"
    }
   ],
   "source": [
    "'''\n",
    "读取数据,预处理\n",
    "3600=3200 400\n",
    "'''\n",
    "import pandas as pd\n",
    "import numpy as np\n",
    "import matplotlib.pyplot as plt\n",
    "train_data=np.array(pd.read_csv('train.csv',usecols=range(3,27)))\n",
    "'''\n",
    "初步结论:\n",
    "WS_HR,PM10,NO\n",
    "'''\n",
    "# plt.figure(1)\n",
    "# for i in range(9):\n",
    "#     plt.plot(train_data[i,1:],label=train_data[i,0])\n",
    "# plt.figure(2)\n",
    "# for i in range(10,18):\n",
    "#     plt.plot(train_data[i,1:],label=train_data[i,0])\n",
    "# plt.figure(3)\n",
    "# plt.plot(train_data[9,1:],label=train_data[i,0])"
   ]
  },
  {
   "cell_type": "code",
   "execution_count": 2,
   "metadata": {},
   "outputs": [],
   "source": [
    "lr=0.001\n",
    "def update(feature,targets,steps):\n",
    "    #init\n",
    "    w=np.zeros(n)\n",
    "    w_diff=np.zeros(n)\n",
    "    b=0\n",
    "    b_diff=0\n",
    "    beta=0\n",
    "    n=np.size(targets)#sample\n",
    "    m=np.size(feature,0)#input_feature\n",
    "    for x in range(steps):\n",
    "        for i in range(m):\n",
    "            for j in range(n):\n",
    "                w_diff[i]+=(-feature[i,j])*(targets[j]-b-w.dot(feature[:,j]))\n",
    "            w_diff[i]+=beta*w[i]*w[i]\n",
    "            w_diff[i]/=n\n",
    "        for j in range(n):\n",
    "            b_diff-=targets[j]-b-w.dot(feature[:,j])\n",
    "        b_diff/=n\n",
    "        w_diff_2=np.sqrt(np.sum(w_diff*w_diff))\n",
    "        b_diff_2=np.sqrt(np.sum(b_diff*b_diff))\n",
    "        w-=lr*w_diff/w_diff_2\n",
    "        b-=lr*b_diff\n",
    "    ## count loss\n",
    "    if x%100==0:\n",
    "        loss=0\n",
    "        for j in range(n):\n",
    "            loss+=(targets[j]-b-w.dot(feature[:,j]))**2\n",
    "        loss/=n\n",
    "        print(\"after {} epochs,Loss is\".format(i),loss)    "
   ]
  },
  {
   "cell_type": "code",
   "execution_count": 9,
   "metadata": {},
   "outputs": [
    {
     "ename": "UnboundLocalError",
     "evalue": "local variable 'n' referenced before assignment",
     "output_type": "error",
     "traceback": [
      "\u001b[1;31m---------------------------------------------------------------------------\u001b[0m",
      "\u001b[1;31mUnboundLocalError\u001b[0m                         Traceback (most recent call last)",
      "\u001b[1;32m<ipython-input-9-5fa09deff5c1>\u001b[0m in \u001b[0;36m<module>\u001b[1;34m\u001b[0m\n\u001b[0;32m      6\u001b[0m         \u001b[0mmy_feature\u001b[0m\u001b[1;33m.\u001b[0m\u001b[0mappend\u001b[0m\u001b[1;33m(\u001b[0m\u001b[0muse_f\u001b[0m\u001b[1;33m)\u001b[0m\u001b[1;33m\u001b[0m\u001b[0m\n\u001b[0;32m      7\u001b[0m         \u001b[0mmy_targets\u001b[0m\u001b[1;33m.\u001b[0m\u001b[0mappend\u001b[0m\u001b[1;33m(\u001b[0m\u001b[0muse_t\u001b[0m\u001b[1;33m)\u001b[0m\u001b[1;33m\u001b[0m\u001b[0m\n\u001b[1;32m----> 8\u001b[1;33m \u001b[0mupdate\u001b[0m\u001b[1;33m(\u001b[0m\u001b[0mmy_feature\u001b[0m\u001b[1;33m,\u001b[0m\u001b[0mmy_targets\u001b[0m\u001b[1;33m,\u001b[0m\u001b[1;36m500\u001b[0m\u001b[1;33m)\u001b[0m\u001b[1;33m\u001b[0m\u001b[0m\n\u001b[0m",
      "\u001b[1;32m<ipython-input-2-761959db5426>\u001b[0m in \u001b[0;36mupdate\u001b[1;34m(feature, targets, steps)\u001b[0m\n\u001b[0;32m      2\u001b[0m \u001b[1;32mdef\u001b[0m \u001b[0mupdate\u001b[0m\u001b[1;33m(\u001b[0m\u001b[0mfeature\u001b[0m\u001b[1;33m,\u001b[0m\u001b[0mtargets\u001b[0m\u001b[1;33m,\u001b[0m\u001b[0msteps\u001b[0m\u001b[1;33m)\u001b[0m\u001b[1;33m:\u001b[0m\u001b[1;33m\u001b[0m\u001b[0m\n\u001b[0;32m      3\u001b[0m     \u001b[1;31m#init\u001b[0m\u001b[1;33m\u001b[0m\u001b[1;33m\u001b[0m\u001b[0m\n\u001b[1;32m----> 4\u001b[1;33m     \u001b[0mw\u001b[0m\u001b[1;33m=\u001b[0m\u001b[0mnp\u001b[0m\u001b[1;33m.\u001b[0m\u001b[0mzeros\u001b[0m\u001b[1;33m(\u001b[0m\u001b[0mn\u001b[0m\u001b[1;33m)\u001b[0m\u001b[1;33m\u001b[0m\u001b[0m\n\u001b[0m\u001b[0;32m      5\u001b[0m     \u001b[0mw_diff\u001b[0m\u001b[1;33m=\u001b[0m\u001b[0mnp\u001b[0m\u001b[1;33m.\u001b[0m\u001b[0mzeros\u001b[0m\u001b[1;33m(\u001b[0m\u001b[0mn\u001b[0m\u001b[1;33m)\u001b[0m\u001b[1;33m\u001b[0m\u001b[0m\n\u001b[0;32m      6\u001b[0m     \u001b[0mb\u001b[0m\u001b[1;33m=\u001b[0m\u001b[1;36m0\u001b[0m\u001b[1;33m\u001b[0m\u001b[0m\n",
      "\u001b[1;31mUnboundLocalError\u001b[0m: local variable 'n' referenced before assignment"
     ]
    }
   ],
   "source": [
    "my_feature,my_targets=[],[]\n",
    "for i in range(0,4320,18):\n",
    "    for j in range(24-10):\n",
    "        use_f=train_data[[i+4,i+8,i+17],j:j+9]\n",
    "        use_t=train_data[i+9,j+10]\n",
    "        my_feature.append(use_f)\n",
    "        my_targets.append(use_t)\n",
    "update(my_feature,my_targets,500)"
   ]
  },
  {
   "cell_type": "code",
   "execution_count": null,
   "metadata": {},
   "outputs": [],
   "source": []
  }
 ]
}