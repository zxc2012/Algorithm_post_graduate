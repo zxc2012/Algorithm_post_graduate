{
 "nbformat": 4,
 "nbformat_minor": 2,
 "metadata": {
  "language_info": {
   "name": "python",
   "codemirror_mode": {
    "name": "ipython",
    "version": 3
   },
   "version": "3.6.6-final"
  },
  "orig_nbformat": 2,
  "file_extension": ".py",
  "mimetype": "text/x-python",
  "name": "python",
  "npconvert_exporter": "python",
  "pygments_lexer": "ipython3",
  "version": 3,
  "kernelspec": {
   "name": "python36664bitbbe86dc75a9a44949c3accb9dfd5896b",
   "display_name": "Python 3.6.6 64-bit"
  }
 },
 "cells": [
  {
   "cell_type": "code",
   "execution_count": 1,
   "metadata": {},
   "outputs": [
    {
     "data": {
      "text/plain": "'\\n初步结论:\\nWS_HR,PM10,NO\\n'"
     },
     "execution_count": 1,
     "metadata": {},
     "output_type": "execute_result"
    }
   ],
   "source": [
    "'''\n",
    "读取数据,预处理\n",
    "'''\n",
    "import pandas as pd\n",
    "import numpy as np\n",
    "import matplotlib.pyplot as plt\n",
    "train_data=np.array(pd.read_csv('train.csv',usecols=range(2,27)))\n",
    "'''\n",
    "初步结论:\n",
    "WS_HR,PM10,NO\n",
    "'''\n",
    "# plt.figure(1)\n",
    "# for i in range(9):\n",
    "#     plt.plot(train_data[i,1:],label=train_data[i,0])\n",
    "# plt.figure(2)\n",
    "# for i in range(10,18):\n",
    "#     plt.plot(train_data[i,1:],label=train_data[i,0])\n",
    "# plt.figure(3)\n",
    "# plt.plot(train_data[9,1:],label=train_data[i,0])"
   ]
  },
  {
   "cell_type": "code",
   "execution_count": null,
   "metadata": {},
   "outputs": [],
   "source": [
    "lr=0.001\n",
    "def update(feature,targets):\n",
    "    n=feature.size\n",
    "    w_diff="
   ]
  }
 ]
}